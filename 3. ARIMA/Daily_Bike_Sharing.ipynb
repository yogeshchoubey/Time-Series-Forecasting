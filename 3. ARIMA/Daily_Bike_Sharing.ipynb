{
 "cells": [
  {
   "cell_type": "code",
   "execution_count": 1,
   "id": "d974d80a",
   "metadata": {},
   "outputs": [],
   "source": [
    "import os\n",
    "import pandas as pd\n",
    "import numpy as np"
   ]
  },
  {
   "cell_type": "code",
   "execution_count": 2,
   "id": "f055d4a2",
   "metadata": {},
   "outputs": [
    {
     "name": "stdout",
     "output_type": "stream",
     "text": [
      "..\\Dataset\\Daily Bike Sharing.csv\n"
     ]
    }
   ],
   "source": [
    "filename = 'Daily Bike Sharing.csv'\n",
    "path = '..\\Dataset'\n",
    "filepath = os.path.join(path,filename)\n",
    "print(filepath)"
   ]
  },
  {
   "cell_type": "code",
   "execution_count": 7,
   "id": "be883cd3",
   "metadata": {},
   "outputs": [],
   "source": [
    "data = pd.read_csv(filepath, index_col='dteday',parse_dates = True)\n",
    "#data = pd.read_csv(filepath)"
   ]
  },
  {
   "cell_type": "code",
   "execution_count": 38,
   "id": "db0a0d8e",
   "metadata": {},
   "outputs": [
    {
     "data": {
      "text/html": [
       "<div>\n",
       "<style scoped>\n",
       "    .dataframe tbody tr th:only-of-type {\n",
       "        vertical-align: middle;\n",
       "    }\n",
       "\n",
       "    .dataframe tbody tr th {\n",
       "        vertical-align: top;\n",
       "    }\n",
       "\n",
       "    .dataframe thead th {\n",
       "        text-align: right;\n",
       "    }\n",
       "</style>\n",
       "<table border=\"1\" class=\"dataframe\">\n",
       "  <thead>\n",
       "    <tr style=\"text-align: right;\">\n",
       "      <th></th>\n",
       "      <th>instant</th>\n",
       "      <th>season</th>\n",
       "      <th>yr</th>\n",
       "      <th>mnth</th>\n",
       "      <th>holiday</th>\n",
       "      <th>weekday</th>\n",
       "      <th>workingday</th>\n",
       "      <th>weathersit</th>\n",
       "      <th>temp</th>\n",
       "      <th>atemp</th>\n",
       "      <th>hum</th>\n",
       "      <th>windspeed</th>\n",
       "      <th>casual</th>\n",
       "      <th>registered</th>\n",
       "      <th>cnt</th>\n",
       "    </tr>\n",
       "    <tr>\n",
       "      <th>dteday</th>\n",
       "      <th></th>\n",
       "      <th></th>\n",
       "      <th></th>\n",
       "      <th></th>\n",
       "      <th></th>\n",
       "      <th></th>\n",
       "      <th></th>\n",
       "      <th></th>\n",
       "      <th></th>\n",
       "      <th></th>\n",
       "      <th></th>\n",
       "      <th></th>\n",
       "      <th></th>\n",
       "      <th></th>\n",
       "      <th></th>\n",
       "    </tr>\n",
       "  </thead>\n",
       "  <tbody>\n",
       "    <tr>\n",
       "      <th>2011-01-01</th>\n",
       "      <td>1</td>\n",
       "      <td>1</td>\n",
       "      <td>0</td>\n",
       "      <td>1</td>\n",
       "      <td>0</td>\n",
       "      <td>6</td>\n",
       "      <td>0</td>\n",
       "      <td>2</td>\n",
       "      <td>0.344167</td>\n",
       "      <td>0.363625</td>\n",
       "      <td>0.805833</td>\n",
       "      <td>0.160446</td>\n",
       "      <td>331</td>\n",
       "      <td>654</td>\n",
       "      <td>985</td>\n",
       "    </tr>\n",
       "    <tr>\n",
       "      <th>2011-01-02</th>\n",
       "      <td>2</td>\n",
       "      <td>1</td>\n",
       "      <td>0</td>\n",
       "      <td>1</td>\n",
       "      <td>0</td>\n",
       "      <td>0</td>\n",
       "      <td>0</td>\n",
       "      <td>2</td>\n",
       "      <td>0.363478</td>\n",
       "      <td>0.353739</td>\n",
       "      <td>0.696087</td>\n",
       "      <td>0.248539</td>\n",
       "      <td>131</td>\n",
       "      <td>670</td>\n",
       "      <td>801</td>\n",
       "    </tr>\n",
       "    <tr>\n",
       "      <th>2011-01-03</th>\n",
       "      <td>3</td>\n",
       "      <td>1</td>\n",
       "      <td>0</td>\n",
       "      <td>1</td>\n",
       "      <td>0</td>\n",
       "      <td>1</td>\n",
       "      <td>1</td>\n",
       "      <td>1</td>\n",
       "      <td>0.196364</td>\n",
       "      <td>0.189405</td>\n",
       "      <td>0.437273</td>\n",
       "      <td>0.248309</td>\n",
       "      <td>120</td>\n",
       "      <td>1229</td>\n",
       "      <td>1349</td>\n",
       "    </tr>\n",
       "    <tr>\n",
       "      <th>2011-01-04</th>\n",
       "      <td>4</td>\n",
       "      <td>1</td>\n",
       "      <td>0</td>\n",
       "      <td>1</td>\n",
       "      <td>0</td>\n",
       "      <td>2</td>\n",
       "      <td>1</td>\n",
       "      <td>1</td>\n",
       "      <td>0.200000</td>\n",
       "      <td>0.212122</td>\n",
       "      <td>0.590435</td>\n",
       "      <td>0.160296</td>\n",
       "      <td>108</td>\n",
       "      <td>1454</td>\n",
       "      <td>1562</td>\n",
       "    </tr>\n",
       "    <tr>\n",
       "      <th>2011-01-05</th>\n",
       "      <td>5</td>\n",
       "      <td>1</td>\n",
       "      <td>0</td>\n",
       "      <td>1</td>\n",
       "      <td>0</td>\n",
       "      <td>3</td>\n",
       "      <td>1</td>\n",
       "      <td>1</td>\n",
       "      <td>0.226957</td>\n",
       "      <td>0.229270</td>\n",
       "      <td>0.436957</td>\n",
       "      <td>0.186900</td>\n",
       "      <td>82</td>\n",
       "      <td>1518</td>\n",
       "      <td>1600</td>\n",
       "    </tr>\n",
       "  </tbody>\n",
       "</table>\n",
       "</div>"
      ],
      "text/plain": [
       "            instant  season  yr  mnth  holiday  weekday  workingday  \\\n",
       "dteday                                                                \n",
       "2011-01-01        1       1   0     1        0        6           0   \n",
       "2011-01-02        2       1   0     1        0        0           0   \n",
       "2011-01-03        3       1   0     1        0        1           1   \n",
       "2011-01-04        4       1   0     1        0        2           1   \n",
       "2011-01-05        5       1   0     1        0        3           1   \n",
       "\n",
       "            weathersit      temp     atemp       hum  windspeed  casual  \\\n",
       "dteday                                                                    \n",
       "2011-01-01           2  0.344167  0.363625  0.805833   0.160446     331   \n",
       "2011-01-02           2  0.363478  0.353739  0.696087   0.248539     131   \n",
       "2011-01-03           1  0.196364  0.189405  0.437273   0.248309     120   \n",
       "2011-01-04           1  0.200000  0.212122  0.590435   0.160296     108   \n",
       "2011-01-05           1  0.226957  0.229270  0.436957   0.186900      82   \n",
       "\n",
       "            registered   cnt  \n",
       "dteday                        \n",
       "2011-01-01         654   985  \n",
       "2011-01-02         670   801  \n",
       "2011-01-03        1229  1349  \n",
       "2011-01-04        1454  1562  \n",
       "2011-01-05        1518  1600  "
      ]
     },
     "execution_count": 38,
     "metadata": {},
     "output_type": "execute_result"
    }
   ],
   "source": [
    "data.head()"
   ]
  },
  {
   "cell_type": "code",
   "execution_count": 10,
   "id": "2eea1089",
   "metadata": {},
   "outputs": [],
   "source": [
    "df = data.copy()"
   ]
  },
  {
   "cell_type": "code",
   "execution_count": 17,
   "id": "786c5e87",
   "metadata": {},
   "outputs": [
    {
     "data": {
      "text/html": [
       "<div>\n",
       "<style scoped>\n",
       "    .dataframe tbody tr th:only-of-type {\n",
       "        vertical-align: middle;\n",
       "    }\n",
       "\n",
       "    .dataframe tbody tr th {\n",
       "        vertical-align: top;\n",
       "    }\n",
       "\n",
       "    .dataframe thead th {\n",
       "        text-align: right;\n",
       "    }\n",
       "</style>\n",
       "<table border=\"1\" class=\"dataframe\">\n",
       "  <thead>\n",
       "    <tr style=\"text-align: right;\">\n",
       "      <th></th>\n",
       "      <th>cnt</th>\n",
       "      <th>holiday</th>\n",
       "      <th>workingday</th>\n",
       "      <th>weathersit</th>\n",
       "      <th>temp</th>\n",
       "      <th>atemp</th>\n",
       "      <th>hum</th>\n",
       "      <th>windspeed</th>\n",
       "    </tr>\n",
       "    <tr>\n",
       "      <th>dteday</th>\n",
       "      <th></th>\n",
       "      <th></th>\n",
       "      <th></th>\n",
       "      <th></th>\n",
       "      <th></th>\n",
       "      <th></th>\n",
       "      <th></th>\n",
       "      <th></th>\n",
       "    </tr>\n",
       "  </thead>\n",
       "  <tbody>\n",
       "    <tr>\n",
       "      <th>2011-01-01</th>\n",
       "      <td>985</td>\n",
       "      <td>0</td>\n",
       "      <td>0</td>\n",
       "      <td>2</td>\n",
       "      <td>0.344167</td>\n",
       "      <td>0.363625</td>\n",
       "      <td>0.805833</td>\n",
       "      <td>0.160446</td>\n",
       "    </tr>\n",
       "  </tbody>\n",
       "</table>\n",
       "</div>"
      ],
      "text/plain": [
       "            cnt  holiday  workingday  weathersit      temp     atemp  \\\n",
       "dteday                                                                 \n",
       "2011-01-01  985        0           0           2  0.344167  0.363625   \n",
       "\n",
       "                 hum  windspeed  \n",
       "dteday                           \n",
       "2011-01-01  0.805833   0.160446  "
      ]
     },
     "execution_count": 17,
     "metadata": {},
     "output_type": "execute_result"
    }
   ],
   "source": [
    "#select variables\n",
    "df = data.loc[:, [\"cnt\", \"holiday\", \"workingday\", \"weathersit\",\n",
    "                       \"temp\", \"atemp\", \"hum\", \"windspeed\"]]\n",
    "df.head(1)   "
   ]
  },
  {
   "cell_type": "code",
   "execution_count": 18,
   "id": "ce1eb0c6",
   "metadata": {},
   "outputs": [
    {
     "data": {
      "text/plain": [
       "DatetimeIndex(['2011-01-01', '2011-01-02', '2011-01-03', '2011-01-04',\n",
       "               '2011-01-05', '2011-01-06', '2011-01-07', '2011-01-08',\n",
       "               '2011-01-09', '2011-01-10',\n",
       "               ...\n",
       "               '2012-12-22', '2012-12-23', '2012-12-24', '2012-12-25',\n",
       "               '2012-12-26', '2012-12-27', '2012-12-28', '2012-12-29',\n",
       "               '2012-12-30', '2012-12-31'],\n",
       "              dtype='datetime64[ns]', name='dteday', length=731, freq=None)"
      ]
     },
     "execution_count": 18,
     "metadata": {},
     "output_type": "execute_result"
    }
   ],
   "source": [
    "df.index"
   ]
  },
  {
   "cell_type": "code",
   "execution_count": 21,
   "id": "5f7a6710",
   "metadata": {},
   "outputs": [],
   "source": [
    "df=df.asfreq('D')"
   ]
  },
  {
   "cell_type": "code",
   "execution_count": 22,
   "id": "f2c67ecb",
   "metadata": {},
   "outputs": [
    {
     "data": {
      "text/plain": [
       "DatetimeIndex(['2011-01-01', '2011-01-02', '2011-01-03', '2011-01-04',\n",
       "               '2011-01-05', '2011-01-06', '2011-01-07', '2011-01-08',\n",
       "               '2011-01-09', '2011-01-10',\n",
       "               ...\n",
       "               '2012-12-22', '2012-12-23', '2012-12-24', '2012-12-25',\n",
       "               '2012-12-26', '2012-12-27', '2012-12-28', '2012-12-29',\n",
       "               '2012-12-30', '2012-12-31'],\n",
       "              dtype='datetime64[ns]', name='dteday', length=731, freq='D')"
      ]
     },
     "execution_count": 22,
     "metadata": {},
     "output_type": "execute_result"
    }
   ],
   "source": [
    "df.index"
   ]
  },
  {
   "cell_type": "code",
   "execution_count": 24,
   "id": "daa4d972",
   "metadata": {},
   "outputs": [
    {
     "data": {
      "text/html": [
       "<div>\n",
       "<style scoped>\n",
       "    .dataframe tbody tr th:only-of-type {\n",
       "        vertical-align: middle;\n",
       "    }\n",
       "\n",
       "    .dataframe tbody tr th {\n",
       "        vertical-align: top;\n",
       "    }\n",
       "\n",
       "    .dataframe thead th {\n",
       "        text-align: right;\n",
       "    }\n",
       "</style>\n",
       "<table border=\"1\" class=\"dataframe\">\n",
       "  <thead>\n",
       "    <tr style=\"text-align: right;\">\n",
       "      <th></th>\n",
       "      <th>y</th>\n",
       "      <th>holiday</th>\n",
       "      <th>workingday</th>\n",
       "      <th>weathersit</th>\n",
       "      <th>temp</th>\n",
       "      <th>atemp</th>\n",
       "      <th>hum</th>\n",
       "      <th>windspeed</th>\n",
       "    </tr>\n",
       "    <tr>\n",
       "      <th>dteday</th>\n",
       "      <th></th>\n",
       "      <th></th>\n",
       "      <th></th>\n",
       "      <th></th>\n",
       "      <th></th>\n",
       "      <th></th>\n",
       "      <th></th>\n",
       "      <th></th>\n",
       "    </tr>\n",
       "  </thead>\n",
       "  <tbody>\n",
       "    <tr>\n",
       "      <th>2011-01-01</th>\n",
       "      <td>985</td>\n",
       "      <td>0</td>\n",
       "      <td>0</td>\n",
       "      <td>2</td>\n",
       "      <td>0.344167</td>\n",
       "      <td>0.363625</td>\n",
       "      <td>0.805833</td>\n",
       "      <td>0.160446</td>\n",
       "    </tr>\n",
       "  </tbody>\n",
       "</table>\n",
       "</div>"
      ],
      "text/plain": [
       "              y  holiday  workingday  weathersit      temp     atemp  \\\n",
       "dteday                                                                 \n",
       "2011-01-01  985        0           0           2  0.344167  0.363625   \n",
       "\n",
       "                 hum  windspeed  \n",
       "dteday                           \n",
       "2011-01-01  0.805833   0.160446  "
      ]
     },
     "execution_count": 24,
     "metadata": {},
     "output_type": "execute_result"
    }
   ],
   "source": [
    "df = df.rename(columns = {'cnt' : 'y'})\n",
    "df.head(1)"
   ]
  },
  {
   "cell_type": "code",
   "execution_count": 25,
   "id": "eb501fe0",
   "metadata": {},
   "outputs": [
    {
     "data": {
      "text/plain": [
       "<AxesSubplot:xlabel='dteday'>"
      ]
     },
     "execution_count": 25,
     "metadata": {},
     "output_type": "execute_result"
    },
    {
     "data": {
      "image/png": "[encoded data removed]",
      "text/plain": [
       "<Figure size 720x504 with 1 Axes>"
      ]
     },
     "metadata": {
      "needs_background": "light"
     },
     "output_type": "display_data"
    }
   ],
   "source": [
    "#viz\n",
    "df[\"y\"].plot(figsize = (10, 7), legend = True)"
   ]
  },
  {
   "cell_type": "code",
   "execution_count": 27,
   "id": "437de4f5",
   "metadata": {},
   "outputs": [
    {
     "name": "stdout",
     "output_type": "stream",
     "text": [
      "Augmented Dickey Fuller p-value: 0.342743\n"
     ]
    }
   ],
   "source": [
    "#Stationarity\n",
    "from statsmodels.tsa.stattools import adfuller\n",
    "stationarity = adfuller(df['y'])\n",
    "print('Augmented Dickey Fuller p-value: %F' % stationarity[1])"
   ]
  },
  {
   "cell_type": "code",
   "execution_count": 29,
   "id": "66f0aff8",
   "metadata": {},
   "outputs": [
    {
     "data": {
      "text/html": [
       "<div>\n",
       "<style scoped>\n",
       "    .dataframe tbody tr th:only-of-type {\n",
       "        vertical-align: middle;\n",
       "    }\n",
       "\n",
       "    .dataframe tbody tr th {\n",
       "        vertical-align: top;\n",
       "    }\n",
       "\n",
       "    .dataframe thead th {\n",
       "        text-align: right;\n",
       "    }\n",
       "</style>\n",
       "<table border=\"1\" class=\"dataframe\">\n",
       "  <thead>\n",
       "    <tr style=\"text-align: right;\">\n",
       "      <th></th>\n",
       "      <th>y</th>\n",
       "      <th>holiday</th>\n",
       "      <th>workingday</th>\n",
       "      <th>weathersit</th>\n",
       "      <th>temp</th>\n",
       "      <th>atemp</th>\n",
       "      <th>hum</th>\n",
       "      <th>windspeed</th>\n",
       "    </tr>\n",
       "    <tr>\n",
       "      <th>dteday</th>\n",
       "      <th></th>\n",
       "      <th></th>\n",
       "      <th></th>\n",
       "      <th></th>\n",
       "      <th></th>\n",
       "      <th></th>\n",
       "      <th></th>\n",
       "      <th></th>\n",
       "    </tr>\n",
       "  </thead>\n",
       "  <tbody>\n",
       "    <tr>\n",
       "      <th>2012-12-31</th>\n",
       "      <td>2729</td>\n",
       "      <td>0</td>\n",
       "      <td>1</td>\n",
       "      <td>2</td>\n",
       "      <td>0.215833</td>\n",
       "      <td>0.223487</td>\n",
       "      <td>0.5775</td>\n",
       "      <td>0.154846</td>\n",
       "    </tr>\n",
       "  </tbody>\n",
       "</table>\n",
       "</div>"
      ],
      "text/plain": [
       "               y  holiday  workingday  weathersit      temp     atemp     hum  \\\n",
       "dteday                                                                          \n",
       "2012-12-31  2729        0           1           2  0.215833  0.223487  0.5775   \n",
       "\n",
       "            windspeed  \n",
       "dteday                 \n",
       "2012-12-31   0.154846  "
      ]
     },
     "execution_count": 29,
     "metadata": {},
     "output_type": "execute_result"
    }
   ],
   "source": [
    "#Training and test set\n",
    "test_days = 31\n",
    "training_set = df.iloc[:-test_days, :]\n",
    "test_set = df.iloc[-test_days:, :]\n",
    "test_set.tail(1)"
   ]
  },
  {
   "cell_type": "code",
   "execution_count": 30,
   "id": "8e47ebf9",
   "metadata": {},
   "outputs": [
    {
     "data": {
      "text/html": [
       "<div>\n",
       "<style scoped>\n",
       "    .dataframe tbody tr th:only-of-type {\n",
       "        vertical-align: middle;\n",
       "    }\n",
       "\n",
       "    .dataframe tbody tr th {\n",
       "        vertical-align: top;\n",
       "    }\n",
       "\n",
       "    .dataframe thead th {\n",
       "        text-align: right;\n",
       "    }\n",
       "</style>\n",
       "<table border=\"1\" class=\"dataframe\">\n",
       "  <thead>\n",
       "    <tr style=\"text-align: right;\">\n",
       "      <th></th>\n",
       "      <th>holiday</th>\n",
       "      <th>workingday</th>\n",
       "      <th>weathersit</th>\n",
       "      <th>temp</th>\n",
       "      <th>atemp</th>\n",
       "      <th>hum</th>\n",
       "      <th>windspeed</th>\n",
       "    </tr>\n",
       "    <tr>\n",
       "      <th>dteday</th>\n",
       "      <th></th>\n",
       "      <th></th>\n",
       "      <th></th>\n",
       "      <th></th>\n",
       "      <th></th>\n",
       "      <th></th>\n",
       "      <th></th>\n",
       "    </tr>\n",
       "  </thead>\n",
       "  <tbody>\n",
       "    <tr>\n",
       "      <th>2012-12-01</th>\n",
       "      <td>0</td>\n",
       "      <td>0</td>\n",
       "      <td>2</td>\n",
       "      <td>0.298333</td>\n",
       "      <td>0.316904</td>\n",
       "      <td>0.806667</td>\n",
       "      <td>0.059704</td>\n",
       "    </tr>\n",
       "    <tr>\n",
       "      <th>2012-12-02</th>\n",
       "      <td>0</td>\n",
       "      <td>0</td>\n",
       "      <td>2</td>\n",
       "      <td>0.347500</td>\n",
       "      <td>0.359208</td>\n",
       "      <td>0.823333</td>\n",
       "      <td>0.124379</td>\n",
       "    </tr>\n",
       "    <tr>\n",
       "      <th>2012-12-03</th>\n",
       "      <td>0</td>\n",
       "      <td>1</td>\n",
       "      <td>1</td>\n",
       "      <td>0.452500</td>\n",
       "      <td>0.455796</td>\n",
       "      <td>0.767500</td>\n",
       "      <td>0.082721</td>\n",
       "    </tr>\n",
       "    <tr>\n",
       "      <th>2012-12-04</th>\n",
       "      <td>0</td>\n",
       "      <td>1</td>\n",
       "      <td>1</td>\n",
       "      <td>0.475833</td>\n",
       "      <td>0.469054</td>\n",
       "      <td>0.733750</td>\n",
       "      <td>0.174129</td>\n",
       "    </tr>\n",
       "    <tr>\n",
       "      <th>2012-12-05</th>\n",
       "      <td>0</td>\n",
       "      <td>1</td>\n",
       "      <td>1</td>\n",
       "      <td>0.438333</td>\n",
       "      <td>0.428012</td>\n",
       "      <td>0.485000</td>\n",
       "      <td>0.324021</td>\n",
       "    </tr>\n",
       "  </tbody>\n",
       "</table>\n",
       "</div>"
      ],
      "text/plain": [
       "            holiday  workingday  weathersit      temp     atemp       hum  \\\n",
       "dteday                                                                      \n",
       "2012-12-01        0           0           2  0.298333  0.316904  0.806667   \n",
       "2012-12-02        0           0           2  0.347500  0.359208  0.823333   \n",
       "2012-12-03        0           1           1  0.452500  0.455796  0.767500   \n",
       "2012-12-04        0           1           1  0.475833  0.469054  0.733750   \n",
       "2012-12-05        0           1           1  0.438333  0.428012  0.485000   \n",
       "\n",
       "            windspeed  \n",
       "dteday                 \n",
       "2012-12-01   0.059704  \n",
       "2012-12-02   0.124379  \n",
       "2012-12-03   0.082721  \n",
       "2012-12-04   0.174129  \n",
       "2012-12-05   0.324021  "
      ]
     },
     "execution_count": 30,
     "metadata": {},
     "output_type": "execute_result"
    }
   ],
   "source": [
    "#exogenous variables\n",
    "train_exog = training_set.iloc[:,1:]\n",
    "test_exog = test_set.iloc[:,1:]\n",
    "test_exog.head()"
   ]
  },
  {
   "cell_type": "code",
   "execution_count": 31,
   "id": "277547ab",
   "metadata": {},
   "outputs": [],
   "source": [
    "#Libraries\n",
    "from pmdarima import auto_arima"
   ]
  },
  {
   "cell_type": "code",
   "execution_count": 32,
   "id": "00cd5532",
   "metadata": {},
   "outputs": [],
   "source": [
    "#forecasting model\n",
    "model = auto_arima(y = training_set['y'],\n",
    "                   X = train_exog,\n",
    "                   m = 7,\n",
    "                   seasonal = True,\n",
    "                   stepwise = False)"
   ]
  },
  {
   "cell_type": "code",
   "execution_count": 33,
   "id": "de1e22ea",
   "metadata": {},
   "outputs": [
    {
     "data": {
      "text/html": [
       "<table class=\"simpletable\">\n",
       "<caption>SARIMAX Results</caption>\n",
       "<tr>\n",
       "  <th>Dep. Variable:</th>           <td>y</td>        <th>  No. Observations:  </th>    <td>700</td>   \n",
       "</tr>\n",
       "<tr>\n",
       "  <th>Model:</th>           <td>SARIMAX(0, 1, 3)</td> <th>  Log Likelihood     </th> <td>-5596.921</td>\n",
       "</tr>\n",
       "<tr>\n",
       "  <th>Date:</th>            <td>Mon, 31 Oct 2022</td> <th>  AIC                </th> <td>11217.842</td>\n",
       "</tr>\n",
       "<tr>\n",
       "  <th>Time:</th>                <td>13:20:29</td>     <th>  BIC                </th> <td>11272.438</td>\n",
       "</tr>\n",
       "<tr>\n",
       "  <th>Sample:</th>             <td>01-01-2011</td>    <th>  HQIC               </th> <td>11238.948</td>\n",
       "</tr>\n",
       "<tr>\n",
       "  <th></th>                   <td>- 11-30-2012</td>   <th>                     </th>     <td> </td>    \n",
       "</tr>\n",
       "<tr>\n",
       "  <th>Covariance Type:</th>        <td>opg</td>       <th>                     </th>     <td> </td>    \n",
       "</tr>\n",
       "</table>\n",
       "<table class=\"simpletable\">\n",
       "<tr>\n",
       "       <td></td>         <th>coef</th>     <th>std err</th>      <th>z</th>      <th>P>|z|</th>  <th>[0.025</th>    <th>0.975]</th>  \n",
       "</tr>\n",
       "<tr>\n",
       "  <th>intercept</th>  <td>    4.3357</td> <td>    5.559</td> <td>    0.780</td> <td> 0.435</td> <td>   -6.561</td> <td>   15.232</td>\n",
       "</tr>\n",
       "<tr>\n",
       "  <th>holiday</th>    <td> -240.2951</td> <td>  129.083</td> <td>   -1.862</td> <td> 0.063</td> <td> -493.293</td> <td>   12.703</td>\n",
       "</tr>\n",
       "<tr>\n",
       "  <th>workingday</th> <td>   89.2465</td> <td>   60.514</td> <td>    1.475</td> <td> 0.140</td> <td>  -29.359</td> <td>  207.852</td>\n",
       "</tr>\n",
       "<tr>\n",
       "  <th>weathersit</th> <td> -460.1476</td> <td>   51.290</td> <td>   -8.971</td> <td> 0.000</td> <td> -560.675</td> <td> -359.620</td>\n",
       "</tr>\n",
       "<tr>\n",
       "  <th>temp</th>       <td> 3421.5810</td> <td> 1170.376</td> <td>    2.923</td> <td> 0.003</td> <td> 1127.687</td> <td> 5715.475</td>\n",
       "</tr>\n",
       "<tr>\n",
       "  <th>atemp</th>      <td> 1970.5514</td> <td> 1196.949</td> <td>    1.646</td> <td> 0.100</td> <td> -375.425</td> <td> 4316.528</td>\n",
       "</tr>\n",
       "<tr>\n",
       "  <th>hum</th>        <td>-2280.3690</td> <td>  198.460</td> <td>  -11.490</td> <td> 0.000</td> <td>-2669.343</td> <td>-1891.395</td>\n",
       "</tr>\n",
       "<tr>\n",
       "  <th>windspeed</th>  <td>-2275.6010</td> <td>  373.290</td> <td>   -6.096</td> <td> 0.000</td> <td>-3007.235</td> <td>-1543.967</td>\n",
       "</tr>\n",
       "<tr>\n",
       "  <th>ma.L1</th>      <td>   -0.5543</td> <td>    0.028</td> <td>  -19.636</td> <td> 0.000</td> <td>   -0.610</td> <td>   -0.499</td>\n",
       "</tr>\n",
       "<tr>\n",
       "  <th>ma.L2</th>      <td>   -0.1349</td> <td>    0.039</td> <td>   -3.428</td> <td> 0.001</td> <td>   -0.212</td> <td>   -0.058</td>\n",
       "</tr>\n",
       "<tr>\n",
       "  <th>ma.L3</th>      <td>   -0.1445</td> <td>    0.040</td> <td>   -3.612</td> <td> 0.000</td> <td>   -0.223</td> <td>   -0.066</td>\n",
       "</tr>\n",
       "<tr>\n",
       "  <th>sigma2</th>     <td> 5.261e+05</td> <td> 2.01e+04</td> <td>   26.113</td> <td> 0.000</td> <td> 4.87e+05</td> <td> 5.66e+05</td>\n",
       "</tr>\n",
       "</table>\n",
       "<table class=\"simpletable\">\n",
       "<tr>\n",
       "  <th>Ljung-Box (L1) (Q):</th>     <td>0.01</td> <th>  Jarque-Bera (JB):  </th> <td>623.47</td>\n",
       "</tr>\n",
       "<tr>\n",
       "  <th>Prob(Q):</th>                <td>0.93</td> <th>  Prob(JB):          </th>  <td>0.00</td> \n",
       "</tr>\n",
       "<tr>\n",
       "  <th>Heteroskedasticity (H):</th> <td>2.51</td> <th>  Skew:              </th>  <td>-0.92</td>\n",
       "</tr>\n",
       "<tr>\n",
       "  <th>Prob(H) (two-sided):</th>    <td>0.00</td> <th>  Kurtosis:          </th>  <td>7.25</td> \n",
       "</tr>\n",
       "</table><br/><br/>Warnings:<br/>[1] Covariance matrix calculated using the outer product of gradients (complex-step)."
      ],
      "text/plain": [
       "<class 'statsmodels.iolib.summary.Summary'>\n",
       "\"\"\"\n",
       "                               SARIMAX Results                                \n",
       "==============================================================================\n",
       "Dep. Variable:                      y   No. Observations:                  700\n",
       "Model:               SARIMAX(0, 1, 3)   Log Likelihood               -5596.921\n",
       "Date:                Mon, 31 Oct 2022   AIC                          11217.842\n",
       "Time:                        13:20:29   BIC                          11272.438\n",
       "Sample:                    01-01-2011   HQIC                         11238.948\n",
       "                         - 11-30-2012                                         \n",
       "Covariance Type:                  opg                                         \n",
       "==============================================================================\n",
       "                 coef    std err          z      P>|z|      [0.025      0.975]\n",
       "------------------------------------------------------------------------------\n",
       "intercept      4.3357      5.559      0.780      0.435      -6.561      15.232\n",
       "holiday     -240.2951    129.083     -1.862      0.063    -493.293      12.703\n",
       "workingday    89.2465     60.514      1.475      0.140     -29.359     207.852\n",
       "weathersit  -460.1476     51.290     -8.971      0.000    -560.675    -359.620\n",
       "temp        3421.5810   1170.376      2.923      0.003    1127.687    5715.475\n",
       "atemp       1970.5514   1196.949      1.646      0.100    -375.425    4316.528\n",
       "hum        -2280.3690    198.460    -11.490      0.000   -2669.343   -1891.395\n",
       "windspeed  -2275.6010    373.290     -6.096      0.000   -3007.235   -1543.967\n",
       "ma.L1         -0.5543      0.028    -19.636      0.000      -0.610      -0.499\n",
       "ma.L2         -0.1349      0.039     -3.428      0.001      -0.212      -0.058\n",
       "ma.L3         -0.1445      0.040     -3.612      0.000      -0.223      -0.066\n",
       "sigma2      5.261e+05   2.01e+04     26.113      0.000    4.87e+05    5.66e+05\n",
       "===================================================================================\n",
       "Ljung-Box (L1) (Q):                   0.01   Jarque-Bera (JB):               623.47\n",
       "Prob(Q):                              0.93   Prob(JB):                         0.00\n",
       "Heteroskedasticity (H):               2.51   Skew:                            -0.92\n",
       "Prob(H) (two-sided):                  0.00   Kurtosis:                         7.25\n",
       "===================================================================================\n",
       "\n",
       "Warnings:\n",
       "[1] Covariance matrix calculated using the outer product of gradients (complex-step).\n",
       "\"\"\""
      ]
     },
     "execution_count": 33,
     "metadata": {},
     "output_type": "execute_result"
    }
   ],
   "source": [
    "#summary\n",
    "model.summary()"
   ]
  },
  {
   "cell_type": "code",
   "execution_count": 34,
   "id": "6dd0a43d",
   "metadata": {},
   "outputs": [
    {
     "data": {
      "text/plain": [
       "dteday\n",
       "2012-12-01    4289.176704\n",
       "2012-12-02    4217.094773\n",
       "2012-12-03    5448.313373\n",
       "2012-12-04    5427.564234\n",
       "2012-12-05    5448.862660\n",
       "2012-12-06    4779.657768\n",
       "2012-12-07    4189.911053\n",
       "2012-12-08    4177.351286\n",
       "2012-12-09    4076.009606\n",
       "2012-12-10    4317.657867\n",
       "2012-12-11    4356.275245\n",
       "2012-12-12    4524.637451\n",
       "2012-12-13    5071.460529\n",
       "2012-12-14    4766.747766\n",
       "2012-12-15    4953.846710\n",
       "2012-12-16    4274.667868\n",
       "2012-12-17    4385.769622\n",
       "2012-12-18    5195.262454\n",
       "2012-12-19    4976.494088\n",
       "2012-12-20    4519.014084\n",
       "2012-12-21    4149.208348\n",
       "2012-12-22    4375.104791\n",
       "2012-12-23    4812.022009\n",
       "2012-12-24    3892.593320\n",
       "2012-12-25    3763.446255\n",
       "2012-12-26    2788.652292\n",
       "2012-12-27    3614.817908\n",
       "2012-12-28    4258.718543\n",
       "2012-12-29    3848.121158\n",
       "2012-12-30    4399.694384\n",
       "2012-12-31    4111.154512\n",
       "Freq: D, Name: SARIMAX, dtype: float64"
      ]
     },
     "execution_count": 34,
     "metadata": {},
     "output_type": "execute_result"
    }
   ],
   "source": [
    "#predictions\n",
    "predictions_sarimax = pd.Series(model.predict(n_periods= test_days,\n",
    "                              X = test_exog)).rename(\"SARIMAX\")\n",
    "predictions_sarimax.index = test_set.index                              \n",
    "predictions_sarimax"
   ]
  },
  {
   "cell_type": "code",
   "execution_count": 35,
   "id": "1ab4499d",
   "metadata": {},
   "outputs": [
    {
     "data": {
      "text/plain": [
       "<AxesSubplot:xlabel='dteday'>"
      ]
     },
     "execution_count": 35,
     "metadata": {},
     "output_type": "execute_result"
    },
    {
     "data": {
      "image/png": "[encoded data removed]",
      "text/plain": [
       "<Figure size 648x432 with 1 Axes>"
      ]
     },
     "metadata": {
      "needs_background": "light"
     },
     "output_type": "display_data"
    }
   ],
   "source": [
    "#visualization\n",
    "training_set['y']['2012-07-01':].plot(figsize = (9,6), legend = True)\n",
    "test_set['y'].plot(legend = True)\n",
    "predictions_sarimax.plot(legend = True)"
   ]
  },
  {
   "cell_type": "code",
   "execution_count": 36,
   "id": "c4bb00c8",
   "metadata": {},
   "outputs": [
    {
     "name": "stdout",
     "output_type": "stream",
     "text": [
      "1180.0\n",
      "1480.0\n"
     ]
    }
   ],
   "source": [
    "#MAE and RMSE\n",
    "from sklearn.metrics import mean_squared_error, mean_absolute_error\n",
    "print(round(mean_absolute_error(test_set['y'], predictions_sarimax),0))\n",
    "print(round(np.sqrt(mean_squared_error(test_set['y'], predictions_sarimax)), 0))"
   ]
  },
  {
   "cell_type": "code",
   "execution_count": 37,
   "id": "8a5e677e",
   "metadata": {},
   "outputs": [
    {
     "data": {
      "text/plain": [
       "71.2623567333771"
      ]
     },
     "execution_count": 37,
     "metadata": {},
     "output_type": "execute_result"
    }
   ],
   "source": [
    "#MAPE function\n",
    "def MAPE(y_true, y_pred):\n",
    "  y_true, y_pred = np.array(y_true), np.array(y_pred)\n",
    "  return np.mean(np.abs((y_true - y_pred) / y_true)) * 100\n",
    "MAPE(test_set['y'], predictions_sarimax)"
   ]
  },
  {
   "cell_type": "code",
   "execution_count": null,
   "id": "0d96e533",
   "metadata": {},
   "outputs": [],
   "source": []
  }
 ],
 "metadata": {
  "kernelspec": {
   "display_name": "Python 3 (ipykernel)",
   "language": "python",
   "name": "python3"
  },
  "language_info": {
   "codemirror_mode": {
    "name": "ipython",
    "version": 3
   },
   "file_extension": ".py",
   "mimetype": "text/x-python",
   "name": "python",
   "nbconvert_exporter": "python",
   "pygments_lexer": "ipython3",
   "version": "3.9.12"
  }
 },
 "nbformat": 4,
 "nbformat_minor": 5
}
