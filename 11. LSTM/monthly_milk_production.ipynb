{
 "cells": [
  {
   "cell_type": "code",
   "execution_count": 1,
   "id": "f055d4a2",
   "metadata": {},
   "outputs": [],
   "source": [
    "import os\n",
    "import pandas as pd\n",
    "import numpy as np\n",
    "import matplotlib.pyplot as plt"
   ]
  },
  {
   "cell_type": "code",
   "execution_count": 39,
   "id": "f996aa16",
   "metadata": {},
   "outputs": [],
   "source": [
    "filename = 'monthly_milk_production.csv'\n",
    "path = '..\\Dataset'\n",
    "filepath = os.path.join(path,filename)"
   ]
  },
  {
   "cell_type": "code",
   "execution_count": 3,
   "id": "646a7abe",
   "metadata": {},
   "outputs": [
    {
     "data": {
      "text/html": [
       "<div>\n",
       "<style scoped>\n",
       "    .dataframe tbody tr th:only-of-type {\n",
       "        vertical-align: middle;\n",
       "    }\n",
       "\n",
       "    .dataframe tbody tr th {\n",
       "        vertical-align: top;\n",
       "    }\n",
       "\n",
       "    .dataframe thead th {\n",
       "        text-align: right;\n",
       "    }\n",
       "</style>\n",
       "<table border=\"1\" class=\"dataframe\">\n",
       "  <thead>\n",
       "    <tr style=\"text-align: right;\">\n",
       "      <th></th>\n",
       "      <th>Production</th>\n",
       "    </tr>\n",
       "    <tr>\n",
       "      <th>Date</th>\n",
       "      <th></th>\n",
       "    </tr>\n",
       "  </thead>\n",
       "  <tbody>\n",
       "    <tr>\n",
       "      <th>1962-01-01</th>\n",
       "      <td>589</td>\n",
       "    </tr>\n",
       "    <tr>\n",
       "      <th>1962-02-01</th>\n",
       "      <td>561</td>\n",
       "    </tr>\n",
       "    <tr>\n",
       "      <th>1962-03-01</th>\n",
       "      <td>640</td>\n",
       "    </tr>\n",
       "    <tr>\n",
       "      <th>1962-04-01</th>\n",
       "      <td>656</td>\n",
       "    </tr>\n",
       "    <tr>\n",
       "      <th>1962-05-01</th>\n",
       "      <td>727</td>\n",
       "    </tr>\n",
       "    <tr>\n",
       "      <th>...</th>\n",
       "      <td>...</td>\n",
       "    </tr>\n",
       "    <tr>\n",
       "      <th>1975-08-01</th>\n",
       "      <td>858</td>\n",
       "    </tr>\n",
       "    <tr>\n",
       "      <th>1975-09-01</th>\n",
       "      <td>817</td>\n",
       "    </tr>\n",
       "    <tr>\n",
       "      <th>1975-10-01</th>\n",
       "      <td>827</td>\n",
       "    </tr>\n",
       "    <tr>\n",
       "      <th>1975-11-01</th>\n",
       "      <td>797</td>\n",
       "    </tr>\n",
       "    <tr>\n",
       "      <th>1975-12-01</th>\n",
       "      <td>843</td>\n",
       "    </tr>\n",
       "  </tbody>\n",
       "</table>\n",
       "<p>168 rows × 1 columns</p>\n",
       "</div>"
      ],
      "text/plain": [
       "            Production\n",
       "Date                  \n",
       "1962-01-01         589\n",
       "1962-02-01         561\n",
       "1962-03-01         640\n",
       "1962-04-01         656\n",
       "1962-05-01         727\n",
       "...                ...\n",
       "1975-08-01         858\n",
       "1975-09-01         817\n",
       "1975-10-01         827\n",
       "1975-11-01         797\n",
       "1975-12-01         843\n",
       "\n",
       "[168 rows x 1 columns]"
      ]
     },
     "execution_count": 3,
     "metadata": {},
     "output_type": "execute_result"
    }
   ],
   "source": [
    "#df = pd.read_csv(filepath)\n",
    "df = pd.read_csv(filepath,\n",
    "                  index_col='Date',\n",
    "                parse_dates=True)\n",
    "df.asfreq('MS')"
   ]
  },
  {
   "cell_type": "code",
   "execution_count": 4,
   "id": "2745cd48",
   "metadata": {},
   "outputs": [
    {
     "data": {
      "text/plain": [
       "(168, 1)"
      ]
     },
     "execution_count": 4,
     "metadata": {},
     "output_type": "execute_result"
    }
   ],
   "source": [
    "df.shape"
   ]
  },
  {
   "cell_type": "code",
   "execution_count": 5,
   "id": "e4aac3a5",
   "metadata": {},
   "outputs": [
    {
     "data": {
      "text/html": [
       "<div>\n",
       "<style scoped>\n",
       "    .dataframe tbody tr th:only-of-type {\n",
       "        vertical-align: middle;\n",
       "    }\n",
       "\n",
       "    .dataframe tbody tr th {\n",
       "        vertical-align: top;\n",
       "    }\n",
       "\n",
       "    .dataframe thead th {\n",
       "        text-align: right;\n",
       "    }\n",
       "</style>\n",
       "<table border=\"1\" class=\"dataframe\">\n",
       "  <thead>\n",
       "    <tr style=\"text-align: right;\">\n",
       "      <th></th>\n",
       "      <th>Production</th>\n",
       "    </tr>\n",
       "    <tr>\n",
       "      <th>Date</th>\n",
       "      <th></th>\n",
       "    </tr>\n",
       "  </thead>\n",
       "  <tbody>\n",
       "    <tr>\n",
       "      <th>1962-01-01</th>\n",
       "      <td>589</td>\n",
       "    </tr>\n",
       "    <tr>\n",
       "      <th>1962-02-01</th>\n",
       "      <td>561</td>\n",
       "    </tr>\n",
       "    <tr>\n",
       "      <th>1962-03-01</th>\n",
       "      <td>640</td>\n",
       "    </tr>\n",
       "    <tr>\n",
       "      <th>1962-04-01</th>\n",
       "      <td>656</td>\n",
       "    </tr>\n",
       "    <tr>\n",
       "      <th>1962-05-01</th>\n",
       "      <td>727</td>\n",
       "    </tr>\n",
       "  </tbody>\n",
       "</table>\n",
       "</div>"
      ],
      "text/plain": [
       "            Production\n",
       "Date                  \n",
       "1962-01-01         589\n",
       "1962-02-01         561\n",
       "1962-03-01         640\n",
       "1962-04-01         656\n",
       "1962-05-01         727"
      ]
     },
     "execution_count": 5,
     "metadata": {},
     "output_type": "execute_result"
    }
   ],
   "source": [
    "df.head()"
   ]
  },
  {
   "cell_type": "code",
   "execution_count": 6,
   "id": "bad0ba13",
   "metadata": {},
   "outputs": [
    {
     "data": {
      "text/plain": [
       "<AxesSubplot: xlabel='Date'>"
      ]
     },
     "execution_count": 6,
     "metadata": {},
     "output_type": "execute_result"
    },
    {
     "data": {
      "image/png": "[encoded data removed]",
      "text/plain": [
       "<Figure size 648x432 with 1 Axes>"
      ]
     },
     "metadata": {
      "needs_background": "light"
     },
     "output_type": "display_data"
    }
   ],
   "source": [
    "df.plot(figsize=(9,6))"
   ]
  },
  {
   "cell_type": "code",
   "execution_count": null,
   "id": "600f0438",
   "metadata": {},
   "outputs": [],
   "source": [
    "df[].plot(figsize=(9,6))"
   ]
  },
  {
   "cell_type": "code",
   "execution_count": 7,
   "id": "07856f66",
   "metadata": {},
   "outputs": [
    {
     "data": {
      "text/plain": [
       "(168, 1)"
      ]
     },
     "execution_count": 7,
     "metadata": {},
     "output_type": "execute_result"
    }
   ],
   "source": [
    "df.shape"
   ]
  },
  {
   "cell_type": "code",
   "execution_count": 8,
   "id": "a0838e85",
   "metadata": {},
   "outputs": [
    {
     "data": {
      "text/plain": [
       "168"
      ]
     },
     "execution_count": 8,
     "metadata": {},
     "output_type": "execute_result"
    }
   ],
   "source": [
    "len(df)\n"
   ]
  },
  {
   "cell_type": "code",
   "execution_count": 9,
   "id": "5ccb292a",
   "metadata": {},
   "outputs": [
    {
     "data": {
      "image/png": "[encoded data removed]",
      "text/plain": [
       "<Figure size 432x288 with 4 Axes>"
      ]
     },
     "metadata": {
      "needs_background": "light"
     },
     "output_type": "display_data"
    }
   ],
   "source": [
    "from statsmodels.tsa.seasonal import seasonal_decompose\n",
    "results = seasonal_decompose(df['Production'])\n",
    "results.plot();"
   ]
  },
  {
   "cell_type": "code",
   "execution_count": 10,
   "id": "f8e2e384",
   "metadata": {},
   "outputs": [],
   "source": [
    "train = df.iloc[:156]\n",
    "test = df.iloc[156:]"
   ]
  },
  {
   "cell_type": "code",
   "execution_count": 11,
   "id": "0bb43fef",
   "metadata": {},
   "outputs": [],
   "source": [
    "from sklearn.preprocessing import MinMaxScaler"
   ]
  },
  {
   "cell_type": "code",
   "execution_count": 12,
   "id": "6aff6f15",
   "metadata": {},
   "outputs": [],
   "source": [
    "scaler = MinMaxScaler()"
   ]
  },
  {
   "cell_type": "code",
   "execution_count": 13,
   "id": "04fadc41",
   "metadata": {},
   "outputs": [
    {
     "data": {
      "text/plain": [
       "(            Production\n",
       " Date                  \n",
       " 1962-01-01         589\n",
       " 1962-02-01         561\n",
       " 1962-03-01         640\n",
       " 1962-04-01         656\n",
       " 1962-05-01         727,\n",
       "             Production\n",
       " Date                  \n",
       " 1975-08-01         858\n",
       " 1975-09-01         817\n",
       " 1975-10-01         827\n",
       " 1975-11-01         797\n",
       " 1975-12-01         843)"
      ]
     },
     "execution_count": 13,
     "metadata": {},
     "output_type": "execute_result"
    }
   ],
   "source": [
    "df.head(),df.tail()"
   ]
  },
  {
   "cell_type": "code",
   "execution_count": 14,
   "id": "3e4284ce",
   "metadata": {},
   "outputs": [],
   "source": [
    "scaler.fit(train)\n",
    "scaled_train = scaler.transform(train)\n",
    "scaled_test = scaler.transform(test)"
   ]
  },
  {
   "cell_type": "code",
   "execution_count": 15,
   "id": "52172898",
   "metadata": {},
   "outputs": [
    {
     "data": {
      "text/plain": [
       "array([[0.08653846],\n",
       "       [0.01923077],\n",
       "       [0.20913462],\n",
       "       [0.24759615],\n",
       "       [0.41826923],\n",
       "       [0.34615385],\n",
       "       [0.20913462],\n",
       "       [0.11057692],\n",
       "       [0.03605769],\n",
       "       [0.05769231]])"
      ]
     },
     "execution_count": 15,
     "metadata": {},
     "output_type": "execute_result"
    }
   ],
   "source": [
    "scaled_train[:10]"
   ]
  },
  {
   "cell_type": "code",
   "execution_count": 16,
   "id": "a53f3754",
   "metadata": {},
   "outputs": [],
   "source": [
    "from keras.preprocessing.sequence import TimeseriesGenerator"
   ]
  },
  {
   "cell_type": "code",
   "execution_count": 17,
   "id": "139958bf",
   "metadata": {},
   "outputs": [],
   "source": [
    "# define generator\n",
    "n_input = 3\n",
    "n_features = 1\n",
    "generator = TimeseriesGenerator(scaled_train, scaled_train, length=n_input, batch_size=1)"
   ]
  },
  {
   "cell_type": "code",
   "execution_count": 18,
   "id": "a1c93e42",
   "metadata": {},
   "outputs": [
    {
     "name": "stdout",
     "output_type": "stream",
     "text": [
      "Given the Array: \n",
      "[0.08653846 0.01923077 0.20913462]\n",
      "Predict this y: \n",
      " [[0.24759615]]\n"
     ]
    }
   ],
   "source": [
    "X,y = generator[0]\n",
    "print(f'Given the Array: \\n{X.flatten()}')\n",
    "print(f'Predict this y: \\n {y}')"
   ]
  },
  {
   "cell_type": "code",
   "execution_count": 19,
   "id": "9f305b3a",
   "metadata": {},
   "outputs": [
    {
     "data": {
      "text/plain": [
       "(1, 3, 1)"
      ]
     },
     "execution_count": 19,
     "metadata": {},
     "output_type": "execute_result"
    }
   ],
   "source": [
    "X.shape"
   ]
  },
  {
   "cell_type": "code",
   "execution_count": 20,
   "id": "5a23c54a",
   "metadata": {},
   "outputs": [],
   "source": [
    "# define generator\n",
    "n_input = 12\n",
    "\n",
    "generator = TimeseriesGenerator(scaled_train, scaled_train, length=n_input, batch_size=1)"
   ]
  },
  {
   "cell_type": "code",
   "execution_count": 21,
   "id": "183cafbc",
   "metadata": {},
   "outputs": [
    {
     "name": "stdout",
     "output_type": "stream",
     "text": [
      "Given the Array: \n",
      "[0.08653846 0.01923077 0.20913462 0.24759615 0.41826923 0.34615385\n",
      " 0.20913462 0.11057692 0.03605769 0.05769231 0.         0.06971154]\n",
      "Predict this y: \n",
      " [[0.11298077]]\n"
     ]
    }
   ],
   "source": [
    "X,y = generator[0]\n",
    "print(f'Given the Array: \\n{X.flatten()}')\n",
    "print(f'Predict this y: \\n {y}')"
   ]
  },
  {
   "cell_type": "code",
   "execution_count": 22,
   "id": "641ec20e",
   "metadata": {},
   "outputs": [
    {
     "data": {
      "text/plain": [
       "(1, 12, 1)"
      ]
     },
     "execution_count": 22,
     "metadata": {},
     "output_type": "execute_result"
    }
   ],
   "source": [
    "X.shape"
   ]
  },
  {
   "cell_type": "code",
   "execution_count": 23,
   "id": "fc9ba4a9",
   "metadata": {},
   "outputs": [],
   "source": [
    "from keras.models import Sequential\n",
    "from keras.layers import Dense\n",
    "from keras.layers import LSTM"
   ]
  },
  {
   "cell_type": "code",
   "execution_count": 24,
   "id": "743c9dfe",
   "metadata": {},
   "outputs": [],
   "source": [
    "# define model\n",
    "model = Sequential()\n",
    "model.add(LSTM(100, activation='relu', input_shape=(n_input, n_features)))\n",
    "model.add(Dense(1))\n",
    "model.compile(optimizer='adam', loss='mse')"
   ]
  },
  {
   "cell_type": "code",
   "execution_count": 25,
   "id": "dbc8eb36",
   "metadata": {},
   "outputs": [
    {
     "name": "stdout",
     "output_type": "stream",
     "text": [
      "Model: \"sequential\"\n",
      "_________________________________________________________________\n",
      " Layer (type)                Output Shape              Param #   \n",
      "=================================================================\n",
      " lstm (LSTM)                 (None, 100)               40800     \n",
      "                                                                 \n",
      " dense (Dense)               (None, 1)                 101       \n",
      "                                                                 \n",
      "=================================================================\n",
      "Total params: 40,901\n",
      "Trainable params: 40,901\n",
      "Non-trainable params: 0\n",
      "_________________________________________________________________\n"
     ]
    }
   ],
   "source": [
    "model.summary()"
   ]
  },
  {
   "cell_type": "code",
   "execution_count": 26,
   "id": "db991ed0",
   "metadata": {},
   "outputs": [
    {
     "name": "stdout",
     "output_type": "stream",
     "text": [
      "Epoch 1/50\n",
      "144/144 [==============================] - 2s 4ms/step - loss: 0.0526\n",
      "Epoch 2/50\n",
      "144/144 [==============================] - 1s 4ms/step - loss: 0.0222\n",
      "Epoch 3/50\n",
      "144/144 [==============================] - 1s 4ms/step - loss: 0.0179\n",
      "Epoch 4/50\n",
      "144/144 [==============================] - 1s 4ms/step - loss: 0.0115\n",
      "Epoch 5/50\n",
      "144/144 [==============================] - 1s 4ms/step - loss: 0.0091\n",
      "Epoch 6/50\n",
      "144/144 [==============================] - 1s 4ms/step - loss: 0.0089\n",
      "Epoch 7/50\n",
      "144/144 [==============================] - 1s 3ms/step - loss: 0.0066\n",
      "Epoch 8/50\n",
      "144/144 [==============================] - 1s 4ms/step - loss: 0.0056\n",
      "Epoch 9/50\n",
      "144/144 [==============================] - 1s 4ms/step - loss: 0.0067\n",
      "Epoch 10/50\n",
      "144/144 [==============================] - 1s 4ms/step - loss: 0.0066\n",
      "Epoch 11/50\n",
      "144/144 [==============================] - 1s 4ms/step - loss: 0.0052\n",
      "Epoch 12/50\n",
      "144/144 [==============================] - 1s 4ms/step - loss: 0.0037\n",
      "Epoch 13/50\n",
      "144/144 [==============================] - 1s 4ms/step - loss: 0.0055\n",
      "Epoch 14/50\n",
      "144/144 [==============================] - 1s 4ms/step - loss: 0.0057\n",
      "Epoch 15/50\n",
      "144/144 [==============================] - 1s 4ms/step - loss: 0.0047\n",
      "Epoch 16/50\n",
      "144/144 [==============================] - 1s 4ms/step - loss: 0.0036\n",
      "Epoch 17/50\n",
      "144/144 [==============================] - 1s 4ms/step - loss: 0.0033\n",
      "Epoch 18/50\n",
      "144/144 [==============================] - 1s 4ms/step - loss: 0.0033\n",
      "Epoch 19/50\n",
      "144/144 [==============================] - 0s 3ms/step - loss: 0.0044\n",
      "Epoch 20/50\n",
      "144/144 [==============================] - 1s 4ms/step - loss: 0.0055\n",
      "Epoch 21/50\n",
      "144/144 [==============================] - 1s 3ms/step - loss: 0.0035\n",
      "Epoch 22/50\n",
      "144/144 [==============================] - 1s 4ms/step - loss: 0.0040\n",
      "Epoch 23/50\n",
      "144/144 [==============================] - 1s 4ms/step - loss: 0.0036\n",
      "Epoch 24/50\n",
      "144/144 [==============================] - 1s 4ms/step - loss: 0.0039\n",
      "Epoch 25/50\n",
      "144/144 [==============================] - 1s 4ms/step - loss: 0.0033\n",
      "Epoch 26/50\n",
      "144/144 [==============================] - 1s 4ms/step - loss: 0.0034\n",
      "Epoch 27/50\n",
      "144/144 [==============================] - 1s 4ms/step - loss: 0.0039\n",
      "Epoch 28/50\n",
      "144/144 [==============================] - 1s 4ms/step - loss: 0.0047\n",
      "Epoch 29/50\n",
      "144/144 [==============================] - 0s 3ms/step - loss: 0.0030\n",
      "Epoch 30/50\n",
      "144/144 [==============================] - 1s 4ms/step - loss: 0.0030\n",
      "Epoch 31/50\n",
      "144/144 [==============================] - 1s 4ms/step - loss: 0.0036\n",
      "Epoch 32/50\n",
      "144/144 [==============================] - 1s 4ms/step - loss: 0.0034\n",
      "Epoch 33/50\n",
      "144/144 [==============================] - 1s 4ms/step - loss: 0.0041\n",
      "Epoch 34/50\n",
      "144/144 [==============================] - 1s 4ms/step - loss: 0.0047\n",
      "Epoch 35/50\n",
      "144/144 [==============================] - 1s 4ms/step - loss: 0.0031\n",
      "Epoch 36/50\n",
      "144/144 [==============================] - 1s 4ms/step - loss: 0.0027\n",
      "Epoch 37/50\n",
      "144/144 [==============================] - 1s 4ms/step - loss: 0.0045\n",
      "Epoch 38/50\n",
      "144/144 [==============================] - 1s 4ms/step - loss: 0.0039\n",
      "Epoch 39/50\n",
      "144/144 [==============================] - 1s 4ms/step - loss: 0.0036\n",
      "Epoch 40/50\n",
      "144/144 [==============================] - 1s 4ms/step - loss: 0.0034\n",
      "Epoch 41/50\n",
      "144/144 [==============================] - 1s 4ms/step - loss: 0.0028\n",
      "Epoch 42/50\n",
      "144/144 [==============================] - 1s 4ms/step - loss: 0.0025\n",
      "Epoch 43/50\n",
      "144/144 [==============================] - 0s 3ms/step - loss: 0.0032\n",
      "Epoch 44/50\n",
      "144/144 [==============================] - 1s 4ms/step - loss: 0.0037\n",
      "Epoch 45/50\n",
      "144/144 [==============================] - 1s 4ms/step - loss: 0.0041\n",
      "Epoch 46/50\n",
      "144/144 [==============================] - 0s 3ms/step - loss: 0.0026\n",
      "Epoch 47/50\n",
      "144/144 [==============================] - 1s 4ms/step - loss: 0.0026\n",
      "Epoch 48/50\n",
      "144/144 [==============================] - 1s 4ms/step - loss: 0.0026\n",
      "Epoch 49/50\n",
      "144/144 [==============================] - 1s 4ms/step - loss: 0.0028\n",
      "Epoch 50/50\n",
      "144/144 [==============================] - 1s 4ms/step - loss: 0.0026\n"
     ]
    },
    {
     "data": {
      "text/plain": [
       "<keras.callbacks.History at 0x18710248df0>"
      ]
     },
     "execution_count": 26,
     "metadata": {},
     "output_type": "execute_result"
    }
   ],
   "source": [
    "model.fit(generator,epochs=50)"
   ]
  },
  {
   "cell_type": "code",
   "execution_count": 27,
   "id": "d8daeac6",
   "metadata": {},
   "outputs": [
    {
     "data": {
      "text/plain": [
       "[<matplotlib.lines.Line2D at 0x18712ad6fa0>]"
      ]
     },
     "execution_count": 27,
     "metadata": {},
     "output_type": "execute_result"
    },
    {
     "data": {
      "image/png": "[encoded data removed]",
      "text/plain": [
       "<Figure size 432x288 with 1 Axes>"
      ]
     },
     "metadata": {
      "needs_background": "light"
     },
     "output_type": "display_data"
    }
   ],
   "source": [
    "loss_per_epoch = model.history.history['loss']\n",
    "plt.plot(range(len(loss_per_epoch)),loss_per_epoch)"
   ]
  },
  {
   "cell_type": "code",
   "execution_count": 28,
   "id": "d95f1cea",
   "metadata": {},
   "outputs": [],
   "source": [
    "last_train_batch = scaled_train[-n_input:]"
   ]
  },
  {
   "cell_type": "code",
   "execution_count": 29,
   "id": "860dfa9b",
   "metadata": {},
   "outputs": [],
   "source": [
    "last_train_batch = last_train_batch.reshape((1, n_input, n_features))"
   ]
  },
  {
   "cell_type": "code",
   "execution_count": 30,
   "id": "0065a694",
   "metadata": {},
   "outputs": [
    {
     "name": "stdout",
     "output_type": "stream",
     "text": [
      "1/1 [==============================] - 0s 187ms/step\n"
     ]
    },
    {
     "data": {
      "text/plain": [
       "array([[0.6357459]], dtype=float32)"
      ]
     },
     "execution_count": 30,
     "metadata": {},
     "output_type": "execute_result"
    }
   ],
   "source": [
    "model.predict(last_train_batch)"
   ]
  },
  {
   "cell_type": "code",
   "execution_count": 31,
   "id": "e4453dff",
   "metadata": {},
   "outputs": [
    {
     "data": {
      "text/plain": [
       "array([0.67548077])"
      ]
     },
     "execution_count": 31,
     "metadata": {},
     "output_type": "execute_result"
    }
   ],
   "source": [
    "scaled_test[0]"
   ]
  },
  {
   "cell_type": "code",
   "execution_count": 32,
   "id": "77b18d12",
   "metadata": {},
   "outputs": [
    {
     "name": "stdout",
     "output_type": "stream",
     "text": [
      "1/1 [==============================] - 0s 17ms/step\n",
      "1/1 [==============================] - 0s 25ms/step\n",
      "1/1 [==============================] - 0s 39ms/step\n",
      "1/1 [==============================] - 0s 26ms/step\n",
      "1/1 [==============================] - 0s 38ms/step\n",
      "1/1 [==============================] - 0s 37ms/step\n",
      "1/1 [==============================] - 0s 39ms/step\n",
      "1/1 [==============================] - 0s 32ms/step\n",
      "1/1 [==============================] - 0s 40ms/step\n",
      "1/1 [==============================] - 0s 32ms/step\n",
      "1/1 [==============================] - 0s 50ms/step\n",
      "1/1 [==============================] - 0s 34ms/step\n"
     ]
    }
   ],
   "source": [
    "test_predictions = []\n",
    "\n",
    "first_eval_batch = scaled_train[-n_input:]\n",
    "current_batch = first_eval_batch.reshape((1, n_input, n_features))\n",
    "\n",
    "for i in range(len(test)):\n",
    "    \n",
    "    # get the prediction value for the first batch\n",
    "    current_pred = model.predict(current_batch)[0]\n",
    "    \n",
    "    # append the prediction into the array\n",
    "    test_predictions.append(current_pred) \n",
    "    \n",
    "    # use the prediction to update the batch and remove the first value\n",
    "    current_batch = np.append(current_batch[:,1:,:],[[current_pred]],axis=1)"
   ]
  },
  {
   "cell_type": "code",
   "execution_count": 33,
   "id": "f8532844",
   "metadata": {},
   "outputs": [
    {
     "data": {
      "text/plain": [
       "[array([0.6357459], dtype=float32),\n",
       " array([0.66436887], dtype=float32),\n",
       " array([0.83711004], dtype=float32),\n",
       " array([0.94386417], dtype=float32),\n",
       " array([1.040721], dtype=float32),\n",
       " array([1.0330663], dtype=float32),\n",
       " array([0.9563748], dtype=float32),\n",
       " array([0.8318625], dtype=float32),\n",
       " array([0.7066197], dtype=float32),\n",
       " array([0.6407579], dtype=float32),\n",
       " array([0.59484875], dtype=float32),\n",
       " array([0.6217318], dtype=float32)]"
      ]
     },
     "execution_count": 33,
     "metadata": {},
     "output_type": "execute_result"
    }
   ],
   "source": [
    "test_predictions"
   ]
  },
  {
   "cell_type": "code",
   "execution_count": 34,
   "id": "ccc2c7d5",
   "metadata": {},
   "outputs": [
    {
     "data": {
      "text/html": [
       "<div>\n",
       "<style scoped>\n",
       "    .dataframe tbody tr th:only-of-type {\n",
       "        vertical-align: middle;\n",
       "    }\n",
       "\n",
       "    .dataframe tbody tr th {\n",
       "        vertical-align: top;\n",
       "    }\n",
       "\n",
       "    .dataframe thead th {\n",
       "        text-align: right;\n",
       "    }\n",
       "</style>\n",
       "<table border=\"1\" class=\"dataframe\">\n",
       "  <thead>\n",
       "    <tr style=\"text-align: right;\">\n",
       "      <th></th>\n",
       "      <th>Production</th>\n",
       "    </tr>\n",
       "    <tr>\n",
       "      <th>Date</th>\n",
       "      <th></th>\n",
       "    </tr>\n",
       "  </thead>\n",
       "  <tbody>\n",
       "    <tr>\n",
       "      <th>1975-01-01</th>\n",
       "      <td>834</td>\n",
       "    </tr>\n",
       "    <tr>\n",
       "      <th>1975-02-01</th>\n",
       "      <td>782</td>\n",
       "    </tr>\n",
       "    <tr>\n",
       "      <th>1975-03-01</th>\n",
       "      <td>892</td>\n",
       "    </tr>\n",
       "    <tr>\n",
       "      <th>1975-04-01</th>\n",
       "      <td>903</td>\n",
       "    </tr>\n",
       "    <tr>\n",
       "      <th>1975-05-01</th>\n",
       "      <td>966</td>\n",
       "    </tr>\n",
       "  </tbody>\n",
       "</table>\n",
       "</div>"
      ],
      "text/plain": [
       "            Production\n",
       "Date                  \n",
       "1975-01-01         834\n",
       "1975-02-01         782\n",
       "1975-03-01         892\n",
       "1975-04-01         903\n",
       "1975-05-01         966"
      ]
     },
     "execution_count": 34,
     "metadata": {},
     "output_type": "execute_result"
    }
   ],
   "source": [
    "test.head()"
   ]
  },
  {
   "cell_type": "code",
   "execution_count": 35,
   "id": "fb8a1427",
   "metadata": {},
   "outputs": [],
   "source": [
    "true_predictions = scaler.inverse_transform(test_predictions)"
   ]
  },
  {
   "cell_type": "code",
   "execution_count": 36,
   "id": "76f74226",
   "metadata": {},
   "outputs": [
    {
     "name": "stderr",
     "output_type": "stream",
     "text": [
      "C:\\Users\\choubeyy\\AppData\\Local\\Temp\\ipykernel_23084\\4269337381.py:1: SettingWithCopyWarning: \n",
      "A value is trying to be set on a copy of a slice from a DataFrame.\n",
      "Try using .loc[row_indexer,col_indexer] = value instead\n",
      "\n",
      "See the caveats in the documentation: https://pandas.pydata.org/pandas-docs/stable/user_guide/indexing.html#returning-a-view-versus-a-copy\n",
      "  test['Predictions'] = true_predictions\n"
     ]
    }
   ],
   "source": [
    "test['Predictions'] = true_predictions"
   ]
  },
  {
   "cell_type": "code",
   "execution_count": 37,
   "id": "62883d5b",
   "metadata": {},
   "outputs": [
    {
     "data": {
      "text/plain": [
       "<AxesSubplot: xlabel='Date'>"
      ]
     },
     "execution_count": 37,
     "metadata": {},
     "output_type": "execute_result"
    },
    {
     "data": {
      "image/png": "[encoded data removed]",
      "text/plain": [
       "<Figure size 1008x360 with 1 Axes>"
      ]
     },
     "metadata": {
      "needs_background": "light"
     },
     "output_type": "display_data"
    }
   ],
   "source": [
    "test.plot(figsize=(14,5))"
   ]
  },
  {
   "cell_type": "code",
   "execution_count": 38,
   "id": "a19b8845",
   "metadata": {},
   "outputs": [
    {
     "name": "stdout",
     "output_type": "stream",
     "text": [
      "33.60980871684775\n"
     ]
    }
   ],
   "source": [
    "from sklearn.metrics import mean_squared_error\n",
    "from math import sqrt\n",
    "rmse=sqrt(mean_squared_error(test['Production'],test['Predictions']))\n",
    "print(rmse)"
   ]
  },
  {
   "cell_type": "code",
   "execution_count": null,
   "id": "be6ba9f8",
   "metadata": {},
   "outputs": [],
   "source": []
  }
 ],
 "metadata": {
  "kernelspec": {
   "display_name": "Python 3 (ipykernel)",
   "language": "python",
   "name": "python3"
  },
  "language_info": {
   "codemirror_mode": {
    "name": "ipython",
    "version": 3
   },
   "file_extension": ".py",
   "mimetype": "text/x-python",
   "name": "python",
   "nbconvert_exporter": "python",
   "pygments_lexer": "ipython3",
   "version": "3.9.12"
  }
 },
 "nbformat": 4,
 "nbformat_minor": 5
}
